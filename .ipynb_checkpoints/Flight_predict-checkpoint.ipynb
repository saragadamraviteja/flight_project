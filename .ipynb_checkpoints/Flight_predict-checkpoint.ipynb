{
 "cells": [
  {
   "cell_type": "code",
   "execution_count": 72,
   "metadata": {
    "scrolled": true
   },
   "outputs": [
    {
     "data": {
      "text/html": [
       "<div>\n",
       "<style scoped>\n",
       "    .dataframe tbody tr th:only-of-type {\n",
       "        vertical-align: middle;\n",
       "    }\n",
       "\n",
       "    .dataframe tbody tr th {\n",
       "        vertical-align: top;\n",
       "    }\n",
       "\n",
       "    .dataframe thead th {\n",
       "        text-align: right;\n",
       "    }\n",
       "</style>\n",
       "<table border=\"1\" class=\"dataframe\">\n",
       "  <thead>\n",
       "    <tr style=\"text-align: right;\">\n",
       "      <th></th>\n",
       "      <th>Airline</th>\n",
       "      <th>Date_of_Journey</th>\n",
       "      <th>Source</th>\n",
       "      <th>Destination</th>\n",
       "      <th>Route</th>\n",
       "      <th>Dep_Time</th>\n",
       "      <th>Arrival_Time</th>\n",
       "      <th>Duration</th>\n",
       "      <th>Total_Stops</th>\n",
       "      <th>Additional_Info</th>\n",
       "      <th>Price</th>\n",
       "    </tr>\n",
       "  </thead>\n",
       "  <tbody>\n",
       "    <tr>\n",
       "      <th>0</th>\n",
       "      <td>IndiGo</td>\n",
       "      <td>24/03/2019</td>\n",
       "      <td>Banglore</td>\n",
       "      <td>New Delhi</td>\n",
       "      <td>BLR ? DEL</td>\n",
       "      <td>22:20</td>\n",
       "      <td>01:10 22 Mar</td>\n",
       "      <td>2h 50m</td>\n",
       "      <td>non-stop</td>\n",
       "      <td>No info</td>\n",
       "      <td>3897</td>\n",
       "    </tr>\n",
       "    <tr>\n",
       "      <th>1</th>\n",
       "      <td>Air India</td>\n",
       "      <td>1/05/2019</td>\n",
       "      <td>Kolkata</td>\n",
       "      <td>Banglore</td>\n",
       "      <td>CCU ? IXR ? BBI ? BLR</td>\n",
       "      <td>05:50</td>\n",
       "      <td>13:15</td>\n",
       "      <td>7h 25m</td>\n",
       "      <td>2 stops</td>\n",
       "      <td>No info</td>\n",
       "      <td>7662</td>\n",
       "    </tr>\n",
       "    <tr>\n",
       "      <th>2</th>\n",
       "      <td>Jet Airways</td>\n",
       "      <td>9/06/2019</td>\n",
       "      <td>Delhi</td>\n",
       "      <td>Cochin</td>\n",
       "      <td>DEL ? LKO ? BOM ? COK</td>\n",
       "      <td>09:25</td>\n",
       "      <td>04:25 10 Jun</td>\n",
       "      <td>19h</td>\n",
       "      <td>2 stops</td>\n",
       "      <td>No info</td>\n",
       "      <td>13882</td>\n",
       "    </tr>\n",
       "    <tr>\n",
       "      <th>3</th>\n",
       "      <td>IndiGo</td>\n",
       "      <td>12/05/2019</td>\n",
       "      <td>Kolkata</td>\n",
       "      <td>Banglore</td>\n",
       "      <td>CCU ? NAG ? BLR</td>\n",
       "      <td>18:05</td>\n",
       "      <td>23:30</td>\n",
       "      <td>5h 25m</td>\n",
       "      <td>1 stop</td>\n",
       "      <td>No info</td>\n",
       "      <td>6218</td>\n",
       "    </tr>\n",
       "    <tr>\n",
       "      <th>4</th>\n",
       "      <td>IndiGo</td>\n",
       "      <td>01/03/2019</td>\n",
       "      <td>Banglore</td>\n",
       "      <td>New Delhi</td>\n",
       "      <td>BLR ? NAG ? DEL</td>\n",
       "      <td>16:50</td>\n",
       "      <td>21:35</td>\n",
       "      <td>4h 45m</td>\n",
       "      <td>1 stop</td>\n",
       "      <td>No info</td>\n",
       "      <td>13302</td>\n",
       "    </tr>\n",
       "    <tr>\n",
       "      <th>...</th>\n",
       "      <td>...</td>\n",
       "      <td>...</td>\n",
       "      <td>...</td>\n",
       "      <td>...</td>\n",
       "      <td>...</td>\n",
       "      <td>...</td>\n",
       "      <td>...</td>\n",
       "      <td>...</td>\n",
       "      <td>...</td>\n",
       "      <td>...</td>\n",
       "      <td>...</td>\n",
       "    </tr>\n",
       "    <tr>\n",
       "      <th>10678</th>\n",
       "      <td>Air Asia</td>\n",
       "      <td>9/04/2019</td>\n",
       "      <td>Kolkata</td>\n",
       "      <td>Banglore</td>\n",
       "      <td>CCU ? BLR</td>\n",
       "      <td>19:55</td>\n",
       "      <td>22:25</td>\n",
       "      <td>2h 30m</td>\n",
       "      <td>non-stop</td>\n",
       "      <td>No info</td>\n",
       "      <td>4107</td>\n",
       "    </tr>\n",
       "    <tr>\n",
       "      <th>10679</th>\n",
       "      <td>Air India</td>\n",
       "      <td>27/04/2019</td>\n",
       "      <td>Kolkata</td>\n",
       "      <td>Banglore</td>\n",
       "      <td>CCU ? BLR</td>\n",
       "      <td>20:45</td>\n",
       "      <td>23:20</td>\n",
       "      <td>2h 35m</td>\n",
       "      <td>non-stop</td>\n",
       "      <td>No info</td>\n",
       "      <td>4145</td>\n",
       "    </tr>\n",
       "    <tr>\n",
       "      <th>10680</th>\n",
       "      <td>Jet Airways</td>\n",
       "      <td>27/04/2019</td>\n",
       "      <td>Banglore</td>\n",
       "      <td>Delhi</td>\n",
       "      <td>BLR ? DEL</td>\n",
       "      <td>08:20</td>\n",
       "      <td>11:20</td>\n",
       "      <td>3h</td>\n",
       "      <td>non-stop</td>\n",
       "      <td>No info</td>\n",
       "      <td>7229</td>\n",
       "    </tr>\n",
       "    <tr>\n",
       "      <th>10681</th>\n",
       "      <td>Vistara</td>\n",
       "      <td>01/03/2019</td>\n",
       "      <td>Banglore</td>\n",
       "      <td>New Delhi</td>\n",
       "      <td>BLR ? DEL</td>\n",
       "      <td>11:30</td>\n",
       "      <td>14:10</td>\n",
       "      <td>2h 40m</td>\n",
       "      <td>non-stop</td>\n",
       "      <td>No info</td>\n",
       "      <td>12648</td>\n",
       "    </tr>\n",
       "    <tr>\n",
       "      <th>10682</th>\n",
       "      <td>Air India</td>\n",
       "      <td>9/05/2019</td>\n",
       "      <td>Delhi</td>\n",
       "      <td>Cochin</td>\n",
       "      <td>DEL ? GOI ? BOM ? COK</td>\n",
       "      <td>10:55</td>\n",
       "      <td>19:15</td>\n",
       "      <td>8h 20m</td>\n",
       "      <td>2 stops</td>\n",
       "      <td>No info</td>\n",
       "      <td>11753</td>\n",
       "    </tr>\n",
       "  </tbody>\n",
       "</table>\n",
       "<p>10683 rows × 11 columns</p>\n",
       "</div>"
      ],
      "text/plain": [
       "           Airline Date_of_Journey    Source Destination  \\\n",
       "0           IndiGo      24/03/2019  Banglore   New Delhi   \n",
       "1        Air India       1/05/2019   Kolkata    Banglore   \n",
       "2      Jet Airways       9/06/2019     Delhi      Cochin   \n",
       "3           IndiGo      12/05/2019   Kolkata    Banglore   \n",
       "4           IndiGo      01/03/2019  Banglore   New Delhi   \n",
       "...            ...             ...       ...         ...   \n",
       "10678     Air Asia       9/04/2019   Kolkata    Banglore   \n",
       "10679    Air India      27/04/2019   Kolkata    Banglore   \n",
       "10680  Jet Airways      27/04/2019  Banglore       Delhi   \n",
       "10681      Vistara      01/03/2019  Banglore   New Delhi   \n",
       "10682    Air India       9/05/2019     Delhi      Cochin   \n",
       "\n",
       "                       Route Dep_Time  Arrival_Time Duration Total_Stops  \\\n",
       "0                  BLR ? DEL    22:20  01:10 22 Mar   2h 50m    non-stop   \n",
       "1      CCU ? IXR ? BBI ? BLR    05:50         13:15   7h 25m     2 stops   \n",
       "2      DEL ? LKO ? BOM ? COK    09:25  04:25 10 Jun      19h     2 stops   \n",
       "3            CCU ? NAG ? BLR    18:05         23:30   5h 25m      1 stop   \n",
       "4            BLR ? NAG ? DEL    16:50         21:35   4h 45m      1 stop   \n",
       "...                      ...      ...           ...      ...         ...   \n",
       "10678              CCU ? BLR    19:55         22:25   2h 30m    non-stop   \n",
       "10679              CCU ? BLR    20:45         23:20   2h 35m    non-stop   \n",
       "10680              BLR ? DEL    08:20         11:20       3h    non-stop   \n",
       "10681              BLR ? DEL    11:30         14:10   2h 40m    non-stop   \n",
       "10682  DEL ? GOI ? BOM ? COK    10:55         19:15   8h 20m     2 stops   \n",
       "\n",
       "      Additional_Info  Price  \n",
       "0             No info   3897  \n",
       "1             No info   7662  \n",
       "2             No info  13882  \n",
       "3             No info   6218  \n",
       "4             No info  13302  \n",
       "...               ...    ...  \n",
       "10678         No info   4107  \n",
       "10679         No info   4145  \n",
       "10680         No info   7229  \n",
       "10681         No info  12648  \n",
       "10682         No info  11753  \n",
       "\n",
       "[10683 rows x 11 columns]"
      ]
     },
     "execution_count": 72,
     "metadata": {},
     "output_type": "execute_result"
    }
   ],
   "source": [
    "import pandas as pd #loading Dataset\n",
    "Data = pd.read_csv(\"Data_Train.csv\")\n",
    "Data"
   ]
  },
  {
   "cell_type": "code",
   "execution_count": 73,
   "metadata": {},
   "outputs": [
    {
     "data": {
      "text/plain": [
       "(10683, 11)"
      ]
     },
     "execution_count": 73,
     "metadata": {},
     "output_type": "execute_result"
    }
   ],
   "source": [
    "Data.shape"
   ]
  },
  {
   "cell_type": "markdown",
   "metadata": {},
   "source": [
    "Cleaning of Data"
   ]
  },
  {
   "cell_type": "code",
   "execution_count": 74,
   "metadata": {},
   "outputs": [],
   "source": [
    "# Data[\"Additional_Info\"].value_counts()"
   ]
  },
  {
   "cell_type": "code",
   "execution_count": 75,
   "metadata": {},
   "outputs": [
    {
     "data": {
      "text/html": [
       "<div>\n",
       "<style scoped>\n",
       "    .dataframe tbody tr th:only-of-type {\n",
       "        vertical-align: middle;\n",
       "    }\n",
       "\n",
       "    .dataframe tbody tr th {\n",
       "        vertical-align: top;\n",
       "    }\n",
       "\n",
       "    .dataframe thead th {\n",
       "        text-align: right;\n",
       "    }\n",
       "</style>\n",
       "<table border=\"1\" class=\"dataframe\">\n",
       "  <thead>\n",
       "    <tr style=\"text-align: right;\">\n",
       "      <th></th>\n",
       "      <th>Features</th>\n",
       "      <th>dtype</th>\n",
       "      <th>unique values</th>\n",
       "      <th>count of unique</th>\n",
       "      <th>frequency</th>\n",
       "      <th>count of null</th>\n",
       "    </tr>\n",
       "  </thead>\n",
       "  <tbody>\n",
       "    <tr>\n",
       "      <th>0</th>\n",
       "      <td>Airline</td>\n",
       "      <td>object</td>\n",
       "      <td>[IndiGo, Air India, Jet Airways, SpiceJet, Mul...</td>\n",
       "      <td>12</td>\n",
       "      <td>{'Jet Airways': 3849, 'IndiGo': 2053, 'Air Ind...</td>\n",
       "      <td>0</td>\n",
       "    </tr>\n",
       "    <tr>\n",
       "      <th>1</th>\n",
       "      <td>Date_of_Journey</td>\n",
       "      <td>object</td>\n",
       "      <td>[24/03/2019, 1/05/2019, 9/06/2019, 12/05/2019,...</td>\n",
       "      <td>44</td>\n",
       "      <td>{'18/05/2019': 504, '6/06/2019': 503, '21/05/2...</td>\n",
       "      <td>0</td>\n",
       "    </tr>\n",
       "    <tr>\n",
       "      <th>2</th>\n",
       "      <td>Source</td>\n",
       "      <td>object</td>\n",
       "      <td>[Banglore, Kolkata, Delhi, Chennai, Mumbai]</td>\n",
       "      <td>5</td>\n",
       "      <td>{'Delhi': 4537, 'Kolkata': 2871, 'Banglore': 2...</td>\n",
       "      <td>0</td>\n",
       "    </tr>\n",
       "    <tr>\n",
       "      <th>3</th>\n",
       "      <td>Destination</td>\n",
       "      <td>object</td>\n",
       "      <td>[New Delhi, Banglore, Cochin, Kolkata, Delhi, ...</td>\n",
       "      <td>6</td>\n",
       "      <td>{'Cochin': 4537, 'Banglore': 2871, 'Delhi': 12...</td>\n",
       "      <td>0</td>\n",
       "    </tr>\n",
       "    <tr>\n",
       "      <th>4</th>\n",
       "      <td>Route</td>\n",
       "      <td>object</td>\n",
       "      <td>[BLR ? DEL, CCU ? IXR ? BBI ? BLR, DEL ? LKO ?...</td>\n",
       "      <td>128</td>\n",
       "      <td>{'DEL ? BOM ? COK': 2376, 'BLR ? DEL': 1552, '...</td>\n",
       "      <td>1</td>\n",
       "    </tr>\n",
       "    <tr>\n",
       "      <th>5</th>\n",
       "      <td>Dep_Time</td>\n",
       "      <td>object</td>\n",
       "      <td>[22:20, 05:50, 09:25, 18:05, 16:50, 09:00, 18:...</td>\n",
       "      <td>222</td>\n",
       "      <td>{'18:55': 233, '17:00': 227, '07:05': 205, '10...</td>\n",
       "      <td>0</td>\n",
       "    </tr>\n",
       "    <tr>\n",
       "      <th>6</th>\n",
       "      <td>Arrival_Time</td>\n",
       "      <td>object</td>\n",
       "      <td>[01:10 22 Mar, 13:15, 04:25 10 Jun, 23:30, 21:...</td>\n",
       "      <td>1343</td>\n",
       "      <td>{'19:00': 423, '21:00': 360, '19:15': 333, '16...</td>\n",
       "      <td>0</td>\n",
       "    </tr>\n",
       "    <tr>\n",
       "      <th>7</th>\n",
       "      <td>Duration</td>\n",
       "      <td>object</td>\n",
       "      <td>[2h 50m, 7h 25m, 19h, 5h 25m, 4h 45m, 2h 25m, ...</td>\n",
       "      <td>368</td>\n",
       "      <td>{'2h 50m': 550, '1h 30m': 386, '2h 55m': 337, ...</td>\n",
       "      <td>0</td>\n",
       "    </tr>\n",
       "    <tr>\n",
       "      <th>8</th>\n",
       "      <td>Total_Stops</td>\n",
       "      <td>object</td>\n",
       "      <td>[non-stop, 2 stops, 1 stop, 3 stops, nan, 4 st...</td>\n",
       "      <td>5</td>\n",
       "      <td>{'1 stop': 5625, 'non-stop': 3491, '2 stops': ...</td>\n",
       "      <td>1</td>\n",
       "    </tr>\n",
       "    <tr>\n",
       "      <th>9</th>\n",
       "      <td>Additional_Info</td>\n",
       "      <td>object</td>\n",
       "      <td>[No info, In-flight meal not included, No chec...</td>\n",
       "      <td>10</td>\n",
       "      <td>{'No info': 8345, 'In-flight meal not included...</td>\n",
       "      <td>0</td>\n",
       "    </tr>\n",
       "    <tr>\n",
       "      <th>10</th>\n",
       "      <td>Price</td>\n",
       "      <td>int64</td>\n",
       "      <td>[3897, 7662, 13882, 6218, 13302, 3873, 11087, ...</td>\n",
       "      <td>1870</td>\n",
       "      <td>{10262: 258, 10844: 212, 7229: 162, 4804: 160,...</td>\n",
       "      <td>0</td>\n",
       "    </tr>\n",
       "  </tbody>\n",
       "</table>\n",
       "</div>"
      ],
      "text/plain": [
       "           Features   dtype  \\\n",
       "0           Airline  object   \n",
       "1   Date_of_Journey  object   \n",
       "2            Source  object   \n",
       "3       Destination  object   \n",
       "4             Route  object   \n",
       "5          Dep_Time  object   \n",
       "6      Arrival_Time  object   \n",
       "7          Duration  object   \n",
       "8       Total_Stops  object   \n",
       "9   Additional_Info  object   \n",
       "10            Price   int64   \n",
       "\n",
       "                                        unique values  count of unique  \\\n",
       "0   [IndiGo, Air India, Jet Airways, SpiceJet, Mul...               12   \n",
       "1   [24/03/2019, 1/05/2019, 9/06/2019, 12/05/2019,...               44   \n",
       "2         [Banglore, Kolkata, Delhi, Chennai, Mumbai]                5   \n",
       "3   [New Delhi, Banglore, Cochin, Kolkata, Delhi, ...                6   \n",
       "4   [BLR ? DEL, CCU ? IXR ? BBI ? BLR, DEL ? LKO ?...              128   \n",
       "5   [22:20, 05:50, 09:25, 18:05, 16:50, 09:00, 18:...              222   \n",
       "6   [01:10 22 Mar, 13:15, 04:25 10 Jun, 23:30, 21:...             1343   \n",
       "7   [2h 50m, 7h 25m, 19h, 5h 25m, 4h 45m, 2h 25m, ...              368   \n",
       "8   [non-stop, 2 stops, 1 stop, 3 stops, nan, 4 st...                5   \n",
       "9   [No info, In-flight meal not included, No chec...               10   \n",
       "10  [3897, 7662, 13882, 6218, 13302, 3873, 11087, ...             1870   \n",
       "\n",
       "                                            frequency  count of null  \n",
       "0   {'Jet Airways': 3849, 'IndiGo': 2053, 'Air Ind...              0  \n",
       "1   {'18/05/2019': 504, '6/06/2019': 503, '21/05/2...              0  \n",
       "2   {'Delhi': 4537, 'Kolkata': 2871, 'Banglore': 2...              0  \n",
       "3   {'Cochin': 4537, 'Banglore': 2871, 'Delhi': 12...              0  \n",
       "4   {'DEL ? BOM ? COK': 2376, 'BLR ? DEL': 1552, '...              1  \n",
       "5   {'18:55': 233, '17:00': 227, '07:05': 205, '10...              0  \n",
       "6   {'19:00': 423, '21:00': 360, '19:15': 333, '16...              0  \n",
       "7   {'2h 50m': 550, '1h 30m': 386, '2h 55m': 337, ...              0  \n",
       "8   {'1 stop': 5625, 'non-stop': 3491, '2 stops': ...              1  \n",
       "9   {'No info': 8345, 'In-flight meal not included...              0  \n",
       "10  {10262: 258, 10844: 212, 7229: 162, 4804: 160,...              0  "
      ]
     },
     "execution_count": 75,
     "metadata": {},
     "output_type": "execute_result"
    }
   ],
   "source": [
    "dtypes = []\n",
    "uniquevalues = []\n",
    "numUni = []\n",
    "frequency = []\n",
    "numnull = []\n",
    "\n",
    "for i in Data:\n",
    "    dtypes.append(Data[i].dtype)\n",
    "    uniquevalues.append(Data[i].unique())\n",
    "    numUni.append(Data[i].nunique())\n",
    "    frequency.append(Data[i].value_counts().to_dict())\n",
    "    numnull.append(Data[i].isnull().sum())\n",
    "Data_About = pd.DataFrame({\"Features\": Data.columns, \"dtype\":dtypes, \"unique values\" : uniquevalues, \"count of unique\" : numUni,\"frequency\":frequency,\"count of null\":numnull})\n",
    "Data_About"
   ]
  },
  {
   "cell_type": "code",
   "execution_count": 76,
   "metadata": {},
   "outputs": [],
   "source": [
    "Data_df = Data.drop([\"Route\",\"Additional_Info\"],axis = 1) # difficult to chang to numerical and this information is redundant\n",
    "Data_df = Data_df.dropna(axis = 0)"
   ]
  },
  {
   "cell_type": "code",
   "execution_count": 77,
   "metadata": {},
   "outputs": [
    {
     "data": {
      "text/plain": [
       "Airline            0\n",
       "Date_of_Journey    0\n",
       "Source             0\n",
       "Destination        0\n",
       "Dep_Time           0\n",
       "Arrival_Time       0\n",
       "Duration           0\n",
       "Total_Stops        0\n",
       "Price              0\n",
       "dtype: int64"
      ]
     },
     "execution_count": 77,
     "metadata": {},
     "output_type": "execute_result"
    }
   ],
   "source": [
    "Data_df.isnull().sum()"
   ]
  },
  {
   "cell_type": "code",
   "execution_count": 78,
   "metadata": {},
   "outputs": [],
   "source": [
    "Data_df[\"Journey_day\"] = pd.to_datetime(Data_df.Date_of_Journey,format = \"%d/%m/%Y\").dt.day\n",
    "Data_df[\"Journey_month\"] = pd.to_datetime(Data_df.Date_of_Journey, format = \"%d/%m/%Y\").dt.month    "
   ]
  },
  {
   "cell_type": "code",
   "execution_count": 79,
   "metadata": {},
   "outputs": [],
   "source": [
    "Data_df[\"dep_hour\"] = pd.to_datetime(Data_df.Dep_Time).dt.hour\n",
    "Data_df[\"dep_min\"] = pd.to_datetime(Data_df.Dep_Time).dt.minute\n",
    "Data_df[\"dep_time_hour\"] = Data_df[\"dep_hour\"]+(Data_df[\"dep_min\"]/60)\n",
    "Data_df.drop([\"dep_hour\",\"dep_min\",\"Dep_Time\",\"Date_of_Journey\"], axis = 1,inplace = True)"
   ]
  },
  {
   "cell_type": "code",
   "execution_count": 80,
   "metadata": {},
   "outputs": [],
   "source": [
    "Data_df[\"arr_hour\"] = pd.to_datetime(Data_df.Arrival_Time).dt.hour\n",
    "Data_df[\"arr_min\"] = pd.to_datetime(Data_df.Arrival_Time).dt.minute\n",
    "Data_df[\"arr_time_hour\"] = Data_df[\"arr_hour\"]+(Data_df[\"arr_min\"]/60)\n",
    "Data_df.drop([\"arr_hour\",\"arr_min\",\"Arrival_Time\"],axis = 1, inplace = True)"
   ]
  },
  {
   "cell_type": "code",
   "execution_count": 81,
   "metadata": {},
   "outputs": [],
   "source": [
    "dur = []\n",
    "for i in Data_df[\"Duration\"]:\n",
    "    i = i.replace(\"h\",\"\")\n",
    "    i = i.replace(\"m\",\"\")\n",
    "    ls = i.split(\" \")\n",
    "    if len(ls)==2:\n",
    "        dur.append(int(ls[0])+(int(ls[1])/60))\n",
    "    elif len(ls)==1:\n",
    "        dur.append(int(ls[0]))\n",
    "Data_df[\"Duration_hour\"] = dur\n",
    "Data_df.drop([\"Duration\"],axis = 1, inplace = True)"
   ]
  },
  {
   "cell_type": "code",
   "execution_count": 82,
   "metadata": {},
   "outputs": [],
   "source": [
    "stops = {'non-stop':0, '2 stops':2, '1 stop':1, '3 stops':3, '4 stops':4}\n",
    "Data_df[\"Total_Stops\"] = Data_df[\"Total_Stops\"].map(stops)"
   ]
  },
  {
   "cell_type": "code",
   "execution_count": 83,
   "metadata": {},
   "outputs": [],
   "source": [
    "Data_dfS = pd.get_dummies(Data_df[\"Source\"], prefix=\"S\")\n",
    "Data_dfD = pd.get_dummies(Data_df[\"Destination\"], prefix = \"D\")\n",
    "Data_dfA = pd.get_dummies(Data_df[\"Airline\"],prefix = \"A\")\n",
    "Data_df = pd.concat([Data_df,Data_dfS,Data_dfD,Data_dfA], axis = 1)\n",
    "Data_df.drop([\"Source\",\"Destination\",\"Airline\"], axis = 1, inplace = True )"
   ]
  },
  {
   "cell_type": "code",
   "execution_count": 84,
   "metadata": {},
   "outputs": [
    {
     "data": {
      "text/html": [
       "<div>\n",
       "<style scoped>\n",
       "    .dataframe tbody tr th:only-of-type {\n",
       "        vertical-align: middle;\n",
       "    }\n",
       "\n",
       "    .dataframe tbody tr th {\n",
       "        vertical-align: top;\n",
       "    }\n",
       "\n",
       "    .dataframe thead th {\n",
       "        text-align: right;\n",
       "    }\n",
       "</style>\n",
       "<table border=\"1\" class=\"dataframe\">\n",
       "  <thead>\n",
       "    <tr style=\"text-align: right;\">\n",
       "      <th></th>\n",
       "      <th>Total_Stops</th>\n",
       "      <th>Price</th>\n",
       "      <th>Journey_day</th>\n",
       "      <th>Journey_month</th>\n",
       "      <th>dep_time_hour</th>\n",
       "      <th>arr_time_hour</th>\n",
       "      <th>Duration_hour</th>\n",
       "      <th>S_Banglore</th>\n",
       "      <th>S_Chennai</th>\n",
       "      <th>S_Delhi</th>\n",
       "      <th>...</th>\n",
       "      <th>A_GoAir</th>\n",
       "      <th>A_IndiGo</th>\n",
       "      <th>A_Jet Airways</th>\n",
       "      <th>A_Jet Airways Business</th>\n",
       "      <th>A_Multiple carriers</th>\n",
       "      <th>A_Multiple carriers Premium economy</th>\n",
       "      <th>A_SpiceJet</th>\n",
       "      <th>A_Trujet</th>\n",
       "      <th>A_Vistara</th>\n",
       "      <th>A_Vistara Premium economy</th>\n",
       "    </tr>\n",
       "  </thead>\n",
       "  <tbody>\n",
       "    <tr>\n",
       "      <th>0</th>\n",
       "      <td>0</td>\n",
       "      <td>3897</td>\n",
       "      <td>24</td>\n",
       "      <td>3</td>\n",
       "      <td>22.333333</td>\n",
       "      <td>1.166667</td>\n",
       "      <td>2.833333</td>\n",
       "      <td>1</td>\n",
       "      <td>0</td>\n",
       "      <td>0</td>\n",
       "      <td>...</td>\n",
       "      <td>0</td>\n",
       "      <td>1</td>\n",
       "      <td>0</td>\n",
       "      <td>0</td>\n",
       "      <td>0</td>\n",
       "      <td>0</td>\n",
       "      <td>0</td>\n",
       "      <td>0</td>\n",
       "      <td>0</td>\n",
       "      <td>0</td>\n",
       "    </tr>\n",
       "    <tr>\n",
       "      <th>1</th>\n",
       "      <td>2</td>\n",
       "      <td>7662</td>\n",
       "      <td>1</td>\n",
       "      <td>5</td>\n",
       "      <td>5.833333</td>\n",
       "      <td>13.250000</td>\n",
       "      <td>7.416667</td>\n",
       "      <td>0</td>\n",
       "      <td>0</td>\n",
       "      <td>0</td>\n",
       "      <td>...</td>\n",
       "      <td>0</td>\n",
       "      <td>0</td>\n",
       "      <td>0</td>\n",
       "      <td>0</td>\n",
       "      <td>0</td>\n",
       "      <td>0</td>\n",
       "      <td>0</td>\n",
       "      <td>0</td>\n",
       "      <td>0</td>\n",
       "      <td>0</td>\n",
       "    </tr>\n",
       "    <tr>\n",
       "      <th>2</th>\n",
       "      <td>2</td>\n",
       "      <td>13882</td>\n",
       "      <td>9</td>\n",
       "      <td>6</td>\n",
       "      <td>9.416667</td>\n",
       "      <td>4.416667</td>\n",
       "      <td>19.000000</td>\n",
       "      <td>0</td>\n",
       "      <td>0</td>\n",
       "      <td>1</td>\n",
       "      <td>...</td>\n",
       "      <td>0</td>\n",
       "      <td>0</td>\n",
       "      <td>1</td>\n",
       "      <td>0</td>\n",
       "      <td>0</td>\n",
       "      <td>0</td>\n",
       "      <td>0</td>\n",
       "      <td>0</td>\n",
       "      <td>0</td>\n",
       "      <td>0</td>\n",
       "    </tr>\n",
       "    <tr>\n",
       "      <th>3</th>\n",
       "      <td>1</td>\n",
       "      <td>6218</td>\n",
       "      <td>12</td>\n",
       "      <td>5</td>\n",
       "      <td>18.083333</td>\n",
       "      <td>23.500000</td>\n",
       "      <td>5.416667</td>\n",
       "      <td>0</td>\n",
       "      <td>0</td>\n",
       "      <td>0</td>\n",
       "      <td>...</td>\n",
       "      <td>0</td>\n",
       "      <td>1</td>\n",
       "      <td>0</td>\n",
       "      <td>0</td>\n",
       "      <td>0</td>\n",
       "      <td>0</td>\n",
       "      <td>0</td>\n",
       "      <td>0</td>\n",
       "      <td>0</td>\n",
       "      <td>0</td>\n",
       "    </tr>\n",
       "    <tr>\n",
       "      <th>4</th>\n",
       "      <td>1</td>\n",
       "      <td>13302</td>\n",
       "      <td>1</td>\n",
       "      <td>3</td>\n",
       "      <td>16.833333</td>\n",
       "      <td>21.583333</td>\n",
       "      <td>4.750000</td>\n",
       "      <td>1</td>\n",
       "      <td>0</td>\n",
       "      <td>0</td>\n",
       "      <td>...</td>\n",
       "      <td>0</td>\n",
       "      <td>1</td>\n",
       "      <td>0</td>\n",
       "      <td>0</td>\n",
       "      <td>0</td>\n",
       "      <td>0</td>\n",
       "      <td>0</td>\n",
       "      <td>0</td>\n",
       "      <td>0</td>\n",
       "      <td>0</td>\n",
       "    </tr>\n",
       "    <tr>\n",
       "      <th>...</th>\n",
       "      <td>...</td>\n",
       "      <td>...</td>\n",
       "      <td>...</td>\n",
       "      <td>...</td>\n",
       "      <td>...</td>\n",
       "      <td>...</td>\n",
       "      <td>...</td>\n",
       "      <td>...</td>\n",
       "      <td>...</td>\n",
       "      <td>...</td>\n",
       "      <td>...</td>\n",
       "      <td>...</td>\n",
       "      <td>...</td>\n",
       "      <td>...</td>\n",
       "      <td>...</td>\n",
       "      <td>...</td>\n",
       "      <td>...</td>\n",
       "      <td>...</td>\n",
       "      <td>...</td>\n",
       "      <td>...</td>\n",
       "      <td>...</td>\n",
       "    </tr>\n",
       "    <tr>\n",
       "      <th>10678</th>\n",
       "      <td>0</td>\n",
       "      <td>4107</td>\n",
       "      <td>9</td>\n",
       "      <td>4</td>\n",
       "      <td>19.916667</td>\n",
       "      <td>22.416667</td>\n",
       "      <td>2.500000</td>\n",
       "      <td>0</td>\n",
       "      <td>0</td>\n",
       "      <td>0</td>\n",
       "      <td>...</td>\n",
       "      <td>0</td>\n",
       "      <td>0</td>\n",
       "      <td>0</td>\n",
       "      <td>0</td>\n",
       "      <td>0</td>\n",
       "      <td>0</td>\n",
       "      <td>0</td>\n",
       "      <td>0</td>\n",
       "      <td>0</td>\n",
       "      <td>0</td>\n",
       "    </tr>\n",
       "    <tr>\n",
       "      <th>10679</th>\n",
       "      <td>0</td>\n",
       "      <td>4145</td>\n",
       "      <td>27</td>\n",
       "      <td>4</td>\n",
       "      <td>20.750000</td>\n",
       "      <td>23.333333</td>\n",
       "      <td>2.583333</td>\n",
       "      <td>0</td>\n",
       "      <td>0</td>\n",
       "      <td>0</td>\n",
       "      <td>...</td>\n",
       "      <td>0</td>\n",
       "      <td>0</td>\n",
       "      <td>0</td>\n",
       "      <td>0</td>\n",
       "      <td>0</td>\n",
       "      <td>0</td>\n",
       "      <td>0</td>\n",
       "      <td>0</td>\n",
       "      <td>0</td>\n",
       "      <td>0</td>\n",
       "    </tr>\n",
       "    <tr>\n",
       "      <th>10680</th>\n",
       "      <td>0</td>\n",
       "      <td>7229</td>\n",
       "      <td>27</td>\n",
       "      <td>4</td>\n",
       "      <td>8.333333</td>\n",
       "      <td>11.333333</td>\n",
       "      <td>3.000000</td>\n",
       "      <td>1</td>\n",
       "      <td>0</td>\n",
       "      <td>0</td>\n",
       "      <td>...</td>\n",
       "      <td>0</td>\n",
       "      <td>0</td>\n",
       "      <td>1</td>\n",
       "      <td>0</td>\n",
       "      <td>0</td>\n",
       "      <td>0</td>\n",
       "      <td>0</td>\n",
       "      <td>0</td>\n",
       "      <td>0</td>\n",
       "      <td>0</td>\n",
       "    </tr>\n",
       "    <tr>\n",
       "      <th>10681</th>\n",
       "      <td>0</td>\n",
       "      <td>12648</td>\n",
       "      <td>1</td>\n",
       "      <td>3</td>\n",
       "      <td>11.500000</td>\n",
       "      <td>14.166667</td>\n",
       "      <td>2.666667</td>\n",
       "      <td>1</td>\n",
       "      <td>0</td>\n",
       "      <td>0</td>\n",
       "      <td>...</td>\n",
       "      <td>0</td>\n",
       "      <td>0</td>\n",
       "      <td>0</td>\n",
       "      <td>0</td>\n",
       "      <td>0</td>\n",
       "      <td>0</td>\n",
       "      <td>0</td>\n",
       "      <td>0</td>\n",
       "      <td>1</td>\n",
       "      <td>0</td>\n",
       "    </tr>\n",
       "    <tr>\n",
       "      <th>10682</th>\n",
       "      <td>2</td>\n",
       "      <td>11753</td>\n",
       "      <td>9</td>\n",
       "      <td>5</td>\n",
       "      <td>10.916667</td>\n",
       "      <td>19.250000</td>\n",
       "      <td>8.333333</td>\n",
       "      <td>0</td>\n",
       "      <td>0</td>\n",
       "      <td>1</td>\n",
       "      <td>...</td>\n",
       "      <td>0</td>\n",
       "      <td>0</td>\n",
       "      <td>0</td>\n",
       "      <td>0</td>\n",
       "      <td>0</td>\n",
       "      <td>0</td>\n",
       "      <td>0</td>\n",
       "      <td>0</td>\n",
       "      <td>0</td>\n",
       "      <td>0</td>\n",
       "    </tr>\n",
       "  </tbody>\n",
       "</table>\n",
       "<p>10682 rows × 30 columns</p>\n",
       "</div>"
      ],
      "text/plain": [
       "       Total_Stops  Price  Journey_day  Journey_month  dep_time_hour  \\\n",
       "0                0   3897           24              3      22.333333   \n",
       "1                2   7662            1              5       5.833333   \n",
       "2                2  13882            9              6       9.416667   \n",
       "3                1   6218           12              5      18.083333   \n",
       "4                1  13302            1              3      16.833333   \n",
       "...            ...    ...          ...            ...            ...   \n",
       "10678            0   4107            9              4      19.916667   \n",
       "10679            0   4145           27              4      20.750000   \n",
       "10680            0   7229           27              4       8.333333   \n",
       "10681            0  12648            1              3      11.500000   \n",
       "10682            2  11753            9              5      10.916667   \n",
       "\n",
       "       arr_time_hour  Duration_hour  S_Banglore  S_Chennai  S_Delhi  ...  \\\n",
       "0           1.166667       2.833333           1          0        0  ...   \n",
       "1          13.250000       7.416667           0          0        0  ...   \n",
       "2           4.416667      19.000000           0          0        1  ...   \n",
       "3          23.500000       5.416667           0          0        0  ...   \n",
       "4          21.583333       4.750000           1          0        0  ...   \n",
       "...              ...            ...         ...        ...      ...  ...   \n",
       "10678      22.416667       2.500000           0          0        0  ...   \n",
       "10679      23.333333       2.583333           0          0        0  ...   \n",
       "10680      11.333333       3.000000           1          0        0  ...   \n",
       "10681      14.166667       2.666667           1          0        0  ...   \n",
       "10682      19.250000       8.333333           0          0        1  ...   \n",
       "\n",
       "       A_GoAir  A_IndiGo  A_Jet Airways  A_Jet Airways Business  \\\n",
       "0            0         1              0                       0   \n",
       "1            0         0              0                       0   \n",
       "2            0         0              1                       0   \n",
       "3            0         1              0                       0   \n",
       "4            0         1              0                       0   \n",
       "...        ...       ...            ...                     ...   \n",
       "10678        0         0              0                       0   \n",
       "10679        0         0              0                       0   \n",
       "10680        0         0              1                       0   \n",
       "10681        0         0              0                       0   \n",
       "10682        0         0              0                       0   \n",
       "\n",
       "       A_Multiple carriers  A_Multiple carriers Premium economy  A_SpiceJet  \\\n",
       "0                        0                                    0           0   \n",
       "1                        0                                    0           0   \n",
       "2                        0                                    0           0   \n",
       "3                        0                                    0           0   \n",
       "4                        0                                    0           0   \n",
       "...                    ...                                  ...         ...   \n",
       "10678                    0                                    0           0   \n",
       "10679                    0                                    0           0   \n",
       "10680                    0                                    0           0   \n",
       "10681                    0                                    0           0   \n",
       "10682                    0                                    0           0   \n",
       "\n",
       "       A_Trujet  A_Vistara  A_Vistara Premium economy  \n",
       "0             0          0                          0  \n",
       "1             0          0                          0  \n",
       "2             0          0                          0  \n",
       "3             0          0                          0  \n",
       "4             0          0                          0  \n",
       "...         ...        ...                        ...  \n",
       "10678         0          0                          0  \n",
       "10679         0          0                          0  \n",
       "10680         0          0                          0  \n",
       "10681         0          1                          0  \n",
       "10682         0          0                          0  \n",
       "\n",
       "[10682 rows x 30 columns]"
      ]
     },
     "execution_count": 84,
     "metadata": {},
     "output_type": "execute_result"
    }
   ],
   "source": [
    "Data_df"
   ]
  },
  {
   "cell_type": "code",
   "execution_count": null,
   "metadata": {},
   "outputs": [],
   "source": []
  },
  {
   "cell_type": "code",
   "execution_count": 85,
   "metadata": {},
   "outputs": [
    {
     "data": {
      "text/plain": [
       "0.5902100473845537"
      ]
     },
     "execution_count": 85,
     "metadata": {},
     "output_type": "execute_result"
    }
   ],
   "source": [
    "X = Data_df.drop([\"Price\"], axis =1)\n",
    "y = Data_df[\"Price\"]\n",
    "\n",
    "from sklearn.model_selection import train_test_split\n",
    "X_train,X_test,y_train,y_test = train_test_split(X,y,test_size =0.2, random_state = 3)\n",
    "\n",
    "from sklearn.linear_model import LinearRegression\n",
    "from sklearn.metrics import r2_score\n",
    "LR = LinearRegression()\n",
    "LR = LR.fit(X_train,y_train)\n",
    "pred = LR.predict(X_test)\n",
    "r2_score(y_test,pred)"
   ]
  },
  {
   "cell_type": "code",
   "execution_count": 49,
   "metadata": {},
   "outputs": [
    {
     "data": {
      "text/plain": [
       "0.5902480526886339"
      ]
     },
     "execution_count": 49,
     "metadata": {},
     "output_type": "execute_result"
    }
   ],
   "source": [
    "X = Data_df.drop([\"Price\"], axis =1)\n",
    "y = Data_df[\"Price\"]\n",
    "\n",
    "from sklearn.model_selection import train_test_split\n",
    "X_train,X_test,y_train,y_test = train_test_split(X,y,test_size =0.2, random_state = 3)\n",
    "\n",
    "from sklearn.linear_model import Ridge\n",
    "from sklearn.metrics import r2_score\n",
    "LR = Ridge(alpha = 0.1)\n",
    "LR = LR.fit(X_train,y_train)\n",
    "pred = LR.predict(X_test)\n",
    "r2_score(y_test,pred)"
   ]
  },
  {
   "cell_type": "code",
   "execution_count": 51,
   "metadata": {},
   "outputs": [
    {
     "data": {
      "image/png": "[encoded data removed]",
      "text/plain": [
       "<Figure size 432x288 with 1 Axes>"
      ]
     },
     "metadata": {
      "needs_background": "light"
     },
     "output_type": "display_data"
    }
   ],
   "source": [
    "y_test = y_test.to_list()\n",
    "residual = (y_test - pred)\n",
    "import matplotlib.pyplot as plt   # checking for linearity\n",
    "plt.scatter(pred,residual)\n",
    "plt.show()"
   ]
  },
  {
   "cell_type": "code",
   "execution_count": 53,
   "metadata": {},
   "outputs": [
    {
     "ename": "AttributeError",
     "evalue": "'numpy.ndarray' object has no attribute 'resid'",
     "output_type": "error",
     "traceback": [
      "\u001b[1;31m---------------------------------------------------------------------------\u001b[0m",
      "\u001b[1;31mAttributeError\u001b[0m                            Traceback (most recent call last)",
      "\u001b[1;32m<ipython-input-53-61b6c9ee6253>\u001b[0m in \u001b[0;36m<module>\u001b[1;34m\u001b[0m\n\u001b[0;32m      5\u001b[0m names = ['Lagrange multiplier statistic', 'p-value',\n\u001b[0;32m      6\u001b[0m         'f-value', 'f p-value']\n\u001b[1;32m----> 7\u001b[1;33m \u001b[0mtest\u001b[0m \u001b[1;33m=\u001b[0m \u001b[0msms\u001b[0m\u001b[1;33m.\u001b[0m\u001b[0mhet_breuschpagan\u001b[0m\u001b[1;33m(\u001b[0m\u001b[0mpred\u001b[0m\u001b[1;33m.\u001b[0m\u001b[0mresid\u001b[0m\u001b[1;33m,\u001b[0m \u001b[0mpred\u001b[0m\u001b[1;33m.\u001b[0m\u001b[0mmodel\u001b[0m\u001b[1;33m.\u001b[0m\u001b[0mexog\u001b[0m\u001b[1;33m)\u001b[0m\u001b[1;33m\u001b[0m\u001b[1;33m\u001b[0m\u001b[0m\n\u001b[0m\u001b[0;32m      8\u001b[0m \u001b[1;33m\u001b[0m\u001b[0m\n\u001b[0;32m      9\u001b[0m \u001b[0mlzip\u001b[0m\u001b[1;33m(\u001b[0m\u001b[0mnames\u001b[0m\u001b[1;33m,\u001b[0m \u001b[0mtest\u001b[0m\u001b[1;33m)\u001b[0m\u001b[1;33m\u001b[0m\u001b[1;33m\u001b[0m\u001b[0m\n",
      "\u001b[1;31mAttributeError\u001b[0m: 'numpy.ndarray' object has no attribute 'resid'"
     ]
    }
   ],
   "source": [
    "from statsmodels.compat import lzip\n",
    "import statsmodels.stats.api as sms\n",
    "\n",
    "#perform Bresuch-Pagan test\n",
    "names = ['Lagrange multiplier statistic', 'p-value',\n",
    "        'f-value', 'f p-value']\n",
    "test = sms.het_breuschpagan(pred.resid, pred.model.exog)\n",
    "\n",
    "lzip(names, test)\n"
   ]
  },
  {
   "cell_type": "code",
   "execution_count": 19,
   "metadata": {},
   "outputs": [
    {
     "data": {
      "text/plain": [
       "0.29399811447314983"
      ]
     },
     "execution_count": 19,
     "metadata": {},
     "output_type": "execute_result"
    }
   ],
   "source": [
    "X = Data_df[[\"Duration_hour\"]]\n",
    "y = Data_df[\"Price\"]\n",
    "\n",
    "from sklearn.model_selection import train_test_split\n",
    "X_train,X_test,y_train,y_test = train_test_split(X,y,test_size =0.2, random_state = 3)\n",
    "\n",
    "from sklearn.linear_model import LinearRegression\n",
    "from sklearn.metrics import r2_score\n",
    "LR = LinearRegression()\n",
    "LR = LR.fit(X_train,y_train)\n",
    "pred = LR.predict(X_test)\n",
    "r2_score(y_test,pred)"
   ]
  },
  {
   "cell_type": "code",
   "execution_count": 20,
   "metadata": {},
   "outputs": [
    {
     "data": {
      "image/png": "[encoded data removed]",
      "text/plain": [
       "<Figure size 432x288 with 1 Axes>"
      ]
     },
     "metadata": {
      "needs_background": "light"
     },
     "output_type": "display_data"
    }
   ],
   "source": [
    "y_test = y_test.to_list()\n",
    "residual = (y_test - pred)\n",
    "import matplotlib.pyplot as plt   # checking for linearity # if there is no pattern then linearity is satisfied\n",
    "plt.scatter(pred,residual)\n",
    "plt.show()"
   ]
  },
  {
   "cell_type": "code",
   "execution_count": 50,
   "metadata": {},
   "outputs": [
    {
     "name": "stdout",
     "output_type": "stream",
     "text": [
      "Optimal number of features : 28\n"
     ]
    },
    {
     "data": {
      "image/png": "[encoded data removed]",
      "text/plain": [
       "<Figure size 432x288 with 1 Axes>"
      ]
     },
     "metadata": {
      "needs_background": "light"
     },
     "output_type": "display_data"
    }
   ],
   "source": [
    "import matplotlib.pyplot as plt\n",
    "from sklearn.model_selection import StratifiedKFold\n",
    "from sklearn.feature_selection import RFECV\n",
    "from sklearn.datasets import make_classification\n",
    "from sklearn.linear_model import LinearRegression\n",
    "\n",
    "lreg = LinearRegression()\n",
    "X = Data_df.drop([\"Price\"], axis =1)\n",
    "y = Data_df[\"Price\"]\n",
    "\n",
    "\n",
    "rfecv = RFECV(estimator=lreg, step=1,\n",
    "              scoring='r2')\n",
    "rfecv.fit(X, y)\n",
    "\n",
    "print(\"Optimal number of features : %d\" % rfecv.n_features_)\n",
    "\n",
    "# Plot number of features VS. cross-validation scores\n",
    "plt.figure()\n",
    "plt.xlabel(\"Number of features selected\")\n",
    "plt.ylabel(\"Cross validation score (nb of correct classifications)\")\n",
    "plt.plot(range(1, len(rfecv.grid_scores_) + 1), rfecv.grid_scores_)\n",
    "plt.show()"
   ]
  },
  {
   "cell_type": "code",
   "execution_count": 44,
   "metadata": {},
   "outputs": [
    {
     "data": {
      "text/plain": [
       "dict_keys(['explained_variance', 'r2', 'max_error', 'neg_median_absolute_error', 'neg_mean_absolute_error', 'neg_mean_squared_error', 'neg_mean_squared_log_error', 'neg_root_mean_squared_error', 'neg_mean_poisson_deviance', 'neg_mean_gamma_deviance', 'accuracy', 'roc_auc', 'roc_auc_ovr', 'roc_auc_ovo', 'roc_auc_ovr_weighted', 'roc_auc_ovo_weighted', 'balanced_accuracy', 'average_precision', 'neg_log_loss', 'neg_brier_score', 'adjusted_rand_score', 'homogeneity_score', 'completeness_score', 'v_measure_score', 'mutual_info_score', 'adjusted_mutual_info_score', 'normalized_mutual_info_score', 'fowlkes_mallows_score', 'precision', 'precision_macro', 'precision_micro', 'precision_samples', 'precision_weighted', 'recall', 'recall_macro', 'recall_micro', 'recall_samples', 'recall_weighted', 'f1', 'f1_macro', 'f1_micro', 'f1_samples', 'f1_weighted', 'jaccard', 'jaccard_macro', 'jaccard_micro', 'jaccard_samples', 'jaccard_weighted'])"
      ]
     },
     "execution_count": 44,
     "metadata": {},
     "output_type": "execute_result"
    }
   ],
   "source": [
    "import sklearn\n",
    "sklearn.metrics.SCORERS.keys()"
   ]
  },
  {
   "cell_type": "code",
   "execution_count": 69,
   "metadata": {},
   "outputs": [
    {
     "name": "stdout",
     "output_type": "stream",
     "text": [
      "Requirement already satisfied: statsmodels in c:\\users\\deepti\\anaconda3\\lib\\site-packages (0.11.0)\n",
      "Requirement already satisfied: numpy>=1.14 in c:\\users\\deepti\\anaconda3\\lib\\site-packages (from statsmodels) (1.18.1)\n",
      "Requirement already satisfied: scipy>=1.0 in c:\\users\\deepti\\anaconda3\\lib\\site-packages (from statsmodels) (1.4.1)\n",
      "Requirement already satisfied: pandas>=0.21 in c:\\users\\deepti\\anaconda3\\lib\\site-packages (from statsmodels) (1.0.1)\n",
      "Requirement already satisfied: patsy>=0.5 in c:\\users\\deepti\\anaconda3\\lib\\site-packages (from statsmodels) (0.5.1)\n",
      "Requirement already satisfied: python-dateutil>=2.6.1 in c:\\users\\deepti\\anaconda3\\lib\\site-packages (from pandas>=0.21->statsmodels) (2.8.1)\n",
      "Requirement already satisfied: pytz>=2017.2 in c:\\users\\deepti\\anaconda3\\lib\\site-packages (from pandas>=0.21->statsmodels) (2019.3)\n",
      "Requirement already satisfied: six in c:\\users\\deepti\\anaconda3\\lib\\site-packages (from patsy>=0.5->statsmodels) (1.14.0)\n",
      "Note: you may need to restart the kernel to use updated packages.\n"
     ]
    }
   ],
   "source": [
    "pip install statsmodels"
   ]
  },
  {
   "cell_type": "code",
   "execution_count": 29,
   "metadata": {},
   "outputs": [
    {
     "data": {
      "text/plain": [
       "pandas.core.frame.DataFrame"
      ]
     },
     "execution_count": 29,
     "metadata": {},
     "output_type": "execute_result"
    }
   ],
   "source": [
    "type(X_train)"
   ]
  },
  {
   "cell_type": "code",
   "execution_count": null,
   "metadata": {},
   "outputs": [],
   "source": []
  },
  {
   "cell_type": "code",
   "execution_count": 54,
   "metadata": {
    "scrolled": true
   },
   "outputs": [
    {
     "name": "stderr",
     "output_type": "stream",
     "text": [
      "C:\\Users\\Deepti\\anaconda3\\lib\\site-packages\\statsmodels\\regression\\linear_model.py:1827: RuntimeWarning: divide by zero encountered in double_scalars\n",
      "  return np.sqrt(eigvals[0]/eigvals[-1])\n",
      "C:\\Users\\Deepti\\anaconda3\\lib\\site-packages\\statsmodels\\base\\model.py:1362: RuntimeWarning: invalid value encountered in true_divide\n",
      "  return self.params / self.bse\n",
      "C:\\Users\\Deepti\\anaconda3\\lib\\site-packages\\scipy\\stats\\_distn_infrastructure.py:903: RuntimeWarning: invalid value encountered in greater\n",
      "  return (a < x) & (x < b)\n",
      "C:\\Users\\Deepti\\anaconda3\\lib\\site-packages\\scipy\\stats\\_distn_infrastructure.py:903: RuntimeWarning: invalid value encountered in less\n",
      "  return (a < x) & (x < b)\n",
      "C:\\Users\\Deepti\\anaconda3\\lib\\site-packages\\scipy\\stats\\_distn_infrastructure.py:1912: RuntimeWarning: invalid value encountered in less_equal\n",
      "  cond2 = cond0 & (x <= _a)\n"
     ]
    },
    {
     "data": {
      "text/html": [
       "<table class=\"simpletable\">\n",
       "<caption>OLS Regression Results</caption>\n",
       "<tr>\n",
       "  <th>Dep. Variable:</th>          <td>Price</td>      <th>  R-squared:         </th> <td>   0.630</td> \n",
       "</tr>\n",
       "<tr>\n",
       "  <th>Model:</th>                   <td>OLS</td>       <th>  Adj. R-squared:    </th> <td>   0.629</td> \n",
       "</tr>\n",
       "<tr>\n",
       "  <th>Method:</th>             <td>Least Squares</td>  <th>  F-statistic:       </th> <td>   807.2</td> \n",
       "</tr>\n",
       "<tr>\n",
       "  <th>Date:</th>             <td>Tue, 29 Sep 2020</td> <th>  Prob (F-statistic):</th>  <td>  0.00</td>  \n",
       "</tr>\n",
       "<tr>\n",
       "  <th>Time:</th>                 <td>23:07:51</td>     <th>  Log-Likelihood:    </th> <td> -80039.</td> \n",
       "</tr>\n",
       "<tr>\n",
       "  <th>No. Observations:</th>      <td>  8545</td>      <th>  AIC:               </th> <td>1.601e+05</td>\n",
       "</tr>\n",
       "<tr>\n",
       "  <th>Df Residuals:</th>          <td>  8526</td>      <th>  BIC:               </th> <td>1.603e+05</td>\n",
       "</tr>\n",
       "<tr>\n",
       "  <th>Df Model:</th>              <td>    18</td>      <th>                     </th>     <td> </td>    \n",
       "</tr>\n",
       "<tr>\n",
       "  <th>Covariance Type:</th>      <td>nonrobust</td>    <th>                     </th>     <td> </td>    \n",
       "</tr>\n",
       "</table>\n",
       "<table class=\"simpletable\">\n",
       "<tr>\n",
       "             <td></td>               <th>coef</th>     <th>std err</th>      <th>t</th>      <th>P>|t|</th>  <th>[0.025</th>    <th>0.975]</th>  \n",
       "</tr>\n",
       "<tr>\n",
       "  <th>Total_Stops</th>            <td> 2730.2611</td> <td>   68.857</td> <td>   39.651</td> <td> 0.000</td> <td> 2595.284</td> <td> 2865.238</td>\n",
       "</tr>\n",
       "<tr>\n",
       "  <th>Journey_day</th>            <td>  -72.6501</td> <td>    3.666</td> <td>  -19.820</td> <td> 0.000</td> <td>  -79.835</td> <td>  -65.465</td>\n",
       "</tr>\n",
       "<tr>\n",
       "  <th>Journey_month</th>          <td> -396.7168</td> <td>   30.035</td> <td>  -13.209</td> <td> 0.000</td> <td> -455.592</td> <td> -337.842</td>\n",
       "</tr>\n",
       "<tr>\n",
       "  <th>dep_time_hour</th>          <td>   23.7129</td> <td>    5.491</td> <td>    4.319</td> <td> 0.000</td> <td>   12.950</td> <td>   34.476</td>\n",
       "</tr>\n",
       "<tr>\n",
       "  <th>arr_time_hour</th>          <td>  -11.0312</td> <td>    4.574</td> <td>   -2.412</td> <td> 0.016</td> <td>  -19.997</td> <td>   -2.065</td>\n",
       "</tr>\n",
       "<tr>\n",
       "  <th>S_Banglore</th>             <td> 7524.6116</td> <td>  136.317</td> <td>   55.199</td> <td> 0.000</td> <td> 7257.397</td> <td> 7791.826</td>\n",
       "</tr>\n",
       "<tr>\n",
       "  <th>S_Chennai</th>              <td> 5432.2605</td> <td>  135.489</td> <td>   40.094</td> <td> 0.000</td> <td> 5166.669</td> <td> 5697.852</td>\n",
       "</tr>\n",
       "<tr>\n",
       "  <th>S_Delhi</th>                <td> 5438.1195</td> <td>  108.573</td> <td>   50.087</td> <td> 0.000</td> <td> 5225.289</td> <td> 5650.950</td>\n",
       "</tr>\n",
       "<tr>\n",
       "  <th>S_Kolkata</th>              <td> 5409.7640</td> <td>  113.670</td> <td>   47.592</td> <td> 0.000</td> <td> 5186.944</td> <td> 5632.584</td>\n",
       "</tr>\n",
       "<tr>\n",
       "  <th>S_Mumbai</th>               <td> 4567.6087</td> <td>  118.272</td> <td>   38.619</td> <td> 0.000</td> <td> 4335.767</td> <td> 4799.451</td>\n",
       "</tr>\n",
       "<tr>\n",
       "  <th>D_Banglore</th>             <td> 5409.7640</td> <td>  113.670</td> <td>   47.592</td> <td> 0.000</td> <td> 5186.944</td> <td> 5632.584</td>\n",
       "</tr>\n",
       "<tr>\n",
       "  <th>D_Cochin</th>               <td> 5438.1195</td> <td>  108.573</td> <td>   50.087</td> <td> 0.000</td> <td> 5225.289</td> <td> 5650.950</td>\n",
       "</tr>\n",
       "<tr>\n",
       "  <th>D_Delhi</th>                <td> 2458.5172</td> <td>  113.503</td> <td>   21.660</td> <td> 0.000</td> <td> 2236.024</td> <td> 2681.011</td>\n",
       "</tr>\n",
       "<tr>\n",
       "  <th>D_Hyderabad</th>            <td> 4567.6087</td> <td>  118.272</td> <td>   38.619</td> <td> 0.000</td> <td> 4335.767</td> <td> 4799.451</td>\n",
       "</tr>\n",
       "<tr>\n",
       "  <th>D_Kolkata</th>              <td> 5432.2605</td> <td>  135.489</td> <td>   40.094</td> <td> 0.000</td> <td> 5166.669</td> <td> 5697.852</td>\n",
       "</tr>\n",
       "<tr>\n",
       "  <th>D_New Delhi</th>            <td> 5066.0945</td> <td>   94.383</td> <td>   53.676</td> <td> 0.000</td> <td> 4881.080</td> <td> 5251.109</td>\n",
       "</tr>\n",
       "<tr>\n",
       "  <th>A_Air Asia</th>             <td>-3759.1660</td> <td>  207.135</td> <td>  -18.148</td> <td> 0.000</td> <td>-4165.201</td> <td>-3353.131</td>\n",
       "</tr>\n",
       "<tr>\n",
       "  <th>A_Air India</th>            <td>-2039.6095</td> <td>  130.988</td> <td>  -15.571</td> <td> 0.000</td> <td>-2296.378</td> <td>-1782.841</td>\n",
       "</tr>\n",
       "<tr>\n",
       "  <th>A_GoAir</th>                <td>-3720.5517</td> <td>  247.987</td> <td>  -15.003</td> <td> 0.000</td> <td>-4206.666</td> <td>-3234.438</td>\n",
       "</tr>\n",
       "<tr>\n",
       "  <th>A_IndiGo</th>               <td>-3481.2278</td> <td>  126.267</td> <td>  -27.570</td> <td> 0.000</td> <td>-3728.741</td> <td>-3233.714</td>\n",
       "</tr>\n",
       "<tr>\n",
       "  <th>A_Jet Airways</th>          <td>  755.2059</td> <td>  116.067</td> <td>    6.507</td> <td> 0.000</td> <td>  527.687</td> <td>  982.725</td>\n",
       "</tr>\n",
       "<tr>\n",
       "  <th>A_Jet Airways Business</th> <td> 4.389e+04</td> <td> 1164.438</td> <td>   37.690</td> <td> 0.000</td> <td> 4.16e+04</td> <td> 4.62e+04</td>\n",
       "</tr>\n",
       "<tr>\n",
       "  <th>A_SpiceJet</th>             <td>-4003.2560</td> <td>  160.387</td> <td>  -24.960</td> <td> 0.000</td> <td>-4317.653</td> <td>-3688.859</td>\n",
       "</tr>\n",
       "<tr>\n",
       "  <th>A_Trujet</th>               <td>         0</td> <td>        0</td> <td>      nan</td> <td>   nan</td> <td>        0</td> <td>        0</td>\n",
       "</tr>\n",
       "<tr>\n",
       "  <th>A_Vistara</th>              <td>-1529.5327</td> <td>  182.132</td> <td>   -8.398</td> <td> 0.000</td> <td>-1886.557</td> <td>-1172.509</td>\n",
       "</tr>\n",
       "</table>\n",
       "<table class=\"simpletable\">\n",
       "<tr>\n",
       "  <th>Omnibus:</th>       <td>4768.936</td> <th>  Durbin-Watson:     </th>  <td>   1.993</td> \n",
       "</tr>\n",
       "<tr>\n",
       "  <th>Prob(Omnibus):</th>  <td> 0.000</td>  <th>  Jarque-Bera (JB):  </th> <td>151786.492</td>\n",
       "</tr>\n",
       "<tr>\n",
       "  <th>Skew:</th>           <td> 2.101</td>  <th>  Prob(JB):          </th>  <td>    0.00</td> \n",
       "</tr>\n",
       "<tr>\n",
       "  <th>Kurtosis:</th>       <td>23.215</td>  <th>  Cond. No.          </th>  <td>     inf</td> \n",
       "</tr>\n",
       "</table><br/><br/>Warnings:<br/>[1] Standard Errors assume that the covariance matrix of the errors is correctly specified.<br/>[2] The smallest eigenvalue is      0. This might indicate that there are<br/>strong multicollinearity problems or that the design matrix is singular."
      ],
      "text/plain": [
       "<class 'statsmodels.iolib.summary.Summary'>\n",
       "\"\"\"\n",
       "                            OLS Regression Results                            \n",
       "==============================================================================\n",
       "Dep. Variable:                  Price   R-squared:                       0.630\n",
       "Model:                            OLS   Adj. R-squared:                  0.629\n",
       "Method:                 Least Squares   F-statistic:                     807.2\n",
       "Date:                Tue, 29 Sep 2020   Prob (F-statistic):               0.00\n",
       "Time:                        23:07:51   Log-Likelihood:                -80039.\n",
       "No. Observations:                8545   AIC:                         1.601e+05\n",
       "Df Residuals:                    8526   BIC:                         1.603e+05\n",
       "Df Model:                          18                                         \n",
       "Covariance Type:            nonrobust                                         \n",
       "==========================================================================================\n",
       "                             coef    std err          t      P>|t|      [0.025      0.975]\n",
       "------------------------------------------------------------------------------------------\n",
       "Total_Stops             2730.2611     68.857     39.651      0.000    2595.284    2865.238\n",
       "Journey_day              -72.6501      3.666    -19.820      0.000     -79.835     -65.465\n",
       "Journey_month           -396.7168     30.035    -13.209      0.000    -455.592    -337.842\n",
       "dep_time_hour             23.7129      5.491      4.319      0.000      12.950      34.476\n",
       "arr_time_hour            -11.0312      4.574     -2.412      0.016     -19.997      -2.065\n",
       "S_Banglore              7524.6116    136.317     55.199      0.000    7257.397    7791.826\n",
       "S_Chennai               5432.2605    135.489     40.094      0.000    5166.669    5697.852\n",
       "S_Delhi                 5438.1195    108.573     50.087      0.000    5225.289    5650.950\n",
       "S_Kolkata               5409.7640    113.670     47.592      0.000    5186.944    5632.584\n",
       "S_Mumbai                4567.6087    118.272     38.619      0.000    4335.767    4799.451\n",
       "D_Banglore              5409.7640    113.670     47.592      0.000    5186.944    5632.584\n",
       "D_Cochin                5438.1195    108.573     50.087      0.000    5225.289    5650.950\n",
       "D_Delhi                 2458.5172    113.503     21.660      0.000    2236.024    2681.011\n",
       "D_Hyderabad             4567.6087    118.272     38.619      0.000    4335.767    4799.451\n",
       "D_Kolkata               5432.2605    135.489     40.094      0.000    5166.669    5697.852\n",
       "D_New Delhi             5066.0945     94.383     53.676      0.000    4881.080    5251.109\n",
       "A_Air Asia             -3759.1660    207.135    -18.148      0.000   -4165.201   -3353.131\n",
       "A_Air India            -2039.6095    130.988    -15.571      0.000   -2296.378   -1782.841\n",
       "A_GoAir                -3720.5517    247.987    -15.003      0.000   -4206.666   -3234.438\n",
       "A_IndiGo               -3481.2278    126.267    -27.570      0.000   -3728.741   -3233.714\n",
       "A_Jet Airways            755.2059    116.067      6.507      0.000     527.687     982.725\n",
       "A_Jet Airways Business  4.389e+04   1164.438     37.690      0.000    4.16e+04    4.62e+04\n",
       "A_SpiceJet             -4003.2560    160.387    -24.960      0.000   -4317.653   -3688.859\n",
       "A_Trujet                        0          0        nan        nan           0           0\n",
       "A_Vistara              -1529.5327    182.132     -8.398      0.000   -1886.557   -1172.509\n",
       "==============================================================================\n",
       "Omnibus:                     4768.936   Durbin-Watson:                   1.993\n",
       "Prob(Omnibus):                  0.000   Jarque-Bera (JB):           151786.492\n",
       "Skew:                           2.101   Prob(JB):                         0.00\n",
       "Kurtosis:                      23.215   Cond. No.                          inf\n",
       "==============================================================================\n",
       "\n",
       "Warnings:\n",
       "[1] Standard Errors assume that the covariance matrix of the errors is correctly specified.\n",
       "[2] The smallest eigenvalue is      0. This might indicate that there are\n",
       "strong multicollinearity problems or that the design matrix is singular.\n",
       "\"\"\""
      ]
     },
     "execution_count": 54,
     "metadata": {},
     "output_type": "execute_result"
    }
   ],
   "source": [
    "X = Data_df.drop([\"Price\",\"Duration_hour\",\"A_Multiple carriers\",\"A_Multiple carriers Premium economy\",\"A_Vistara Premium economy\"], axis =1)\n",
    "y = Data_df[\"Price\"]\n",
    "\n",
    "from sklearn.model_selection import train_test_split\n",
    "X_train,X_test,y_train,y_test = train_test_split(X,y,test_size =0.2, random_state = 3)\n",
    "\n",
    "y_train = pd.DataFrame(y_train)\n",
    "\n",
    "import statsmodels.api as sm\n",
    "model = sm.OLS(y_train,X_train)\n",
    "results = model.fit()\n",
    "results.summary()"
   ]
  },
  {
   "cell_type": "code",
   "execution_count": 55,
   "metadata": {},
   "outputs": [
    {
     "data": {
      "text/plain": [
       "[('Lagrange multiplier statistic', 521.1174565134262),\n",
       " ('p-value', 6.811536193842388e-95),\n",
       " ('f-value', 30.762659751157095),\n",
       " ('f p-value', 1.710754238084718e-102)]"
      ]
     },
     "execution_count": 55,
     "metadata": {},
     "output_type": "execute_result"
    }
   ],
   "source": [
    "from statsmodels.compat import lzip\n",
    "import statsmodels.stats.api as sms\n",
    "                                          # homoscedasticity check, p>0.05\n",
    "#perform Bresuch-Pagan test\n",
    "names = ['Lagrange multiplier statistic', 'p-value',\n",
    "        'f-value', 'f p-value']\n",
    "test = sms.het_breuschpagan(results.resid, results.model.exog)\n",
    "\n",
    "lzip(names, test)"
   ]
  },
  {
   "cell_type": "code",
   "execution_count": 60,
   "metadata": {},
   "outputs": [],
   "source": [
    "residuals = y_test - pred"
   ]
  },
  {
   "cell_type": "code",
   "execution_count": 62,
   "metadata": {},
   "outputs": [
    {
     "data": {
      "text/plain": [
       "(array([  41.,  312., 1133.,  540.,   76.,   11.,   16.,    3.,    3.,\n",
       "           2.]),\n",
       " array([-8586.86233787, -5425.41552608, -2263.96871429,   897.47809749,\n",
       "         4058.92490928,  7220.37172106, 10381.81853285, 13543.26534463,\n",
       "        16704.71215642, 19866.15896821, 23027.60577999]),\n",
       " <a list of 10 Patch objects>)"
      ]
     },
     "execution_count": 62,
     "metadata": {},
     "output_type": "execute_result"
    },
    {
     "data": {
      "image/png": "[encoded data removed]",
      "text/plain": [
       "<Figure size 432x288 with 1 Axes>"
      ]
     },
     "metadata": {
      "needs_background": "light"
     },
     "output_type": "display_data"
    }
   ],
   "source": [
    "plt.hist(residuals)"
   ]
  },
  {
   "cell_type": "code",
   "execution_count": 64,
   "metadata": {},
   "outputs": [
    {
     "data": {
      "image/png": "[encoded data removed]",
      "text/plain": [
       "<Figure size 432x288 with 1 Axes>"
      ]
     },
     "metadata": {
      "needs_background": "light"
     },
     "output_type": "display_data"
    }
   ],
   "source": [
    "import numpy as np \n",
    "import statsmodels.api as sm \n",
    "import pylab as py\n",
    "\n",
    "sm.qqplot(residuals, line ='45') \n",
    "py.show()"
   ]
  },
  {
   "cell_type": "code",
   "execution_count": 63,
   "metadata": {},
   "outputs": [
    {
     "data": {
      "image/png": "[encoded data removed]",
      "text/plain": [
       "<Figure size 432x288 with 1 Axes>"
      ]
     },
     "metadata": {
      "needs_background": "light"
     },
     "output_type": "display_data"
    }
   ],
   "source": [
    "import numpy as np \n",
    "import statsmodels.api as sm \n",
    "import pylab as py\n",
    "\n",
    "sm.qqplot(residuals,stats.t,fit = True, line ='45') \n",
    "py.show()"
   ]
  },
  {
   "cell_type": "code",
   "execution_count": 68,
   "metadata": {},
   "outputs": [
    {
     "data": {
      "text/plain": [
       "KstestResult(statistic=0.5375062171339468, pvalue=0.0)"
      ]
     },
     "execution_count": 68,
     "metadata": {},
     "output_type": "execute_result"
    }
   ],
   "source": [
    "from scipy import stats\n",
    "resids = results.resid\n",
    "stats.kstest(resids,\"norm\")"
   ]
  },
  {
   "cell_type": "code",
   "execution_count": 71,
   "metadata": {},
   "outputs": [
    {
     "ename": "TypeError",
     "evalue": "_parse_args() missing 1 required positional argument: 'df'",
     "output_type": "error",
     "traceback": [
      "\u001b[1;31m---------------------------------------------------------------------------\u001b[0m",
      "\u001b[1;31mTypeError\u001b[0m                                 Traceback (most recent call last)",
      "\u001b[1;32m<ipython-input-71-d295005cf7fc>\u001b[0m in \u001b[0;36m<module>\u001b[1;34m\u001b[0m\n\u001b[0;32m      1\u001b[0m \u001b[1;32mfrom\u001b[0m \u001b[0mscipy\u001b[0m \u001b[1;32mimport\u001b[0m \u001b[0mstats\u001b[0m\u001b[1;33m\u001b[0m\u001b[1;33m\u001b[0m\u001b[0m\n\u001b[0;32m      2\u001b[0m \u001b[0mresids\u001b[0m \u001b[1;33m=\u001b[0m \u001b[0mresults\u001b[0m\u001b[1;33m.\u001b[0m\u001b[0mresid\u001b[0m\u001b[1;33m\u001b[0m\u001b[1;33m\u001b[0m\u001b[0m\n\u001b[1;32m----> 3\u001b[1;33m \u001b[0mstats\u001b[0m\u001b[1;33m.\u001b[0m\u001b[0mkstest\u001b[0m\u001b[1;33m(\u001b[0m\u001b[0mresids\u001b[0m\u001b[1;33m,\u001b[0m\u001b[1;34m\"t\"\u001b[0m\u001b[1;33m)\u001b[0m\u001b[1;33m\u001b[0m\u001b[1;33m\u001b[0m\u001b[0m\n\u001b[0m",
      "\u001b[1;32m~\\anaconda3\\lib\\site-packages\\scipy\\stats\\stats.py\u001b[0m in \u001b[0;36mkstest\u001b[1;34m(rvs, cdf, args, N, alternative, mode)\u001b[0m\n\u001b[0;32m   5501\u001b[0m         \u001b[0mvals\u001b[0m \u001b[1;33m=\u001b[0m \u001b[0mnp\u001b[0m\u001b[1;33m.\u001b[0m\u001b[0msort\u001b[0m\u001b[1;33m(\u001b[0m\u001b[0mrvs\u001b[0m\u001b[1;33m)\u001b[0m\u001b[1;33m\u001b[0m\u001b[1;33m\u001b[0m\u001b[0m\n\u001b[0;32m   5502\u001b[0m         \u001b[0mN\u001b[0m \u001b[1;33m=\u001b[0m \u001b[0mlen\u001b[0m\u001b[1;33m(\u001b[0m\u001b[0mvals\u001b[0m\u001b[1;33m)\u001b[0m\u001b[1;33m\u001b[0m\u001b[1;33m\u001b[0m\u001b[0m\n\u001b[1;32m-> 5503\u001b[1;33m     \u001b[0mcdfvals\u001b[0m \u001b[1;33m=\u001b[0m \u001b[0mcdf\u001b[0m\u001b[1;33m(\u001b[0m\u001b[0mvals\u001b[0m\u001b[1;33m,\u001b[0m \u001b[1;33m*\u001b[0m\u001b[0margs\u001b[0m\u001b[1;33m)\u001b[0m\u001b[1;33m\u001b[0m\u001b[1;33m\u001b[0m\u001b[0m\n\u001b[0m\u001b[0;32m   5504\u001b[0m \u001b[1;33m\u001b[0m\u001b[0m\n\u001b[0;32m   5505\u001b[0m     \u001b[1;31m# to not break compatibility with existing code\u001b[0m\u001b[1;33m\u001b[0m\u001b[1;33m\u001b[0m\u001b[1;33m\u001b[0m\u001b[0m\n",
      "\u001b[1;32m~\\anaconda3\\lib\\site-packages\\scipy\\stats\\_distn_infrastructure.py\u001b[0m in \u001b[0;36mcdf\u001b[1;34m(self, x, *args, **kwds)\u001b[0m\n\u001b[0;32m   1817\u001b[0m \u001b[1;33m\u001b[0m\u001b[0m\n\u001b[0;32m   1818\u001b[0m         \"\"\"\n\u001b[1;32m-> 1819\u001b[1;33m         \u001b[0margs\u001b[0m\u001b[1;33m,\u001b[0m \u001b[0mloc\u001b[0m\u001b[1;33m,\u001b[0m \u001b[0mscale\u001b[0m \u001b[1;33m=\u001b[0m \u001b[0mself\u001b[0m\u001b[1;33m.\u001b[0m\u001b[0m_parse_args\u001b[0m\u001b[1;33m(\u001b[0m\u001b[1;33m*\u001b[0m\u001b[0margs\u001b[0m\u001b[1;33m,\u001b[0m \u001b[1;33m**\u001b[0m\u001b[0mkwds\u001b[0m\u001b[1;33m)\u001b[0m\u001b[1;33m\u001b[0m\u001b[1;33m\u001b[0m\u001b[0m\n\u001b[0m\u001b[0;32m   1820\u001b[0m         \u001b[0m_a\u001b[0m\u001b[1;33m,\u001b[0m \u001b[0m_b\u001b[0m \u001b[1;33m=\u001b[0m \u001b[0mself\u001b[0m\u001b[1;33m.\u001b[0m\u001b[0m_get_support\u001b[0m\u001b[1;33m(\u001b[0m\u001b[1;33m*\u001b[0m\u001b[0margs\u001b[0m\u001b[1;33m)\u001b[0m\u001b[1;33m\u001b[0m\u001b[1;33m\u001b[0m\u001b[0m\n\u001b[0;32m   1821\u001b[0m         \u001b[0mx\u001b[0m\u001b[1;33m,\u001b[0m \u001b[0mloc\u001b[0m\u001b[1;33m,\u001b[0m \u001b[0mscale\u001b[0m \u001b[1;33m=\u001b[0m \u001b[0mmap\u001b[0m\u001b[1;33m(\u001b[0m\u001b[0masarray\u001b[0m\u001b[1;33m,\u001b[0m \u001b[1;33m(\u001b[0m\u001b[0mx\u001b[0m\u001b[1;33m,\u001b[0m \u001b[0mloc\u001b[0m\u001b[1;33m,\u001b[0m \u001b[0mscale\u001b[0m\u001b[1;33m)\u001b[0m\u001b[1;33m)\u001b[0m\u001b[1;33m\u001b[0m\u001b[1;33m\u001b[0m\u001b[0m\n",
      "\u001b[1;31mTypeError\u001b[0m: _parse_args() missing 1 required positional argument: 'df'"
     ]
    }
   ],
   "source": [
    "# from scipy import stats\n",
    "# resids = results.resid\n",
    "# stats.kstest(resids,\"t\")"
   ]
  },
  {
   "cell_type": "code",
   "execution_count": 70,
   "metadata": {},
   "outputs": [
    {
     "data": {
      "text/plain": [
       "[<matplotlib.lines.Line2D at 0x2533fcd0388>]"
      ]
     },
     "execution_count": 70,
     "metadata": {},
     "output_type": "execute_result"
    },
    {
     "data": {
      "image/png": "[encoded data removed]",
      "text/plain": [
       "<Figure size 432x288 with 1 Axes>"
      ]
     },
     "metadata": {
      "needs_background": "light"
     },
     "output_type": "display_data"
    }
   ],
   "source": [
    "plt.plot(Data_df[\"Total_Stops\"],Data_df[\"Price\"])"
   ]
  },
  {
   "cell_type": "code",
   "execution_count": null,
   "metadata": {},
   "outputs": [],
   "source": []
  }
 ],
 "metadata": {
  "kernelspec": {
   "display_name": "Python 3",
   "language": "python",
   "name": "python3"
  },
  "language_info": {
   "codemirror_mode": {
    "name": "ipython",
    "version": 3
   },
   "file_extension": ".py",
   "mimetype": "text/x-python",
   "name": "python",
   "nbconvert_exporter": "python",
   "pygments_lexer": "ipython3",
   "version": "3.7.7"
  }
 },
 "nbformat": 4,
 "nbformat_minor": 4
}
